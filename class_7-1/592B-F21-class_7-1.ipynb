{
 "cells": [
  {
   "cell_type": "code",
   "execution_count": 1,
   "metadata": {},
   "outputs": [],
   "source": [
    "%matplotlib inline"
   ]
  },
  {
   "cell_type": "markdown",
   "metadata": {},
   "source": [
    "# 592B, Class 7.1 (10/12). Spectral domain methods and representations: the cepstrum "
   ]
  },
  {
   "cell_type": "code",
   "execution_count": 2,
   "metadata": {},
   "outputs": [],
   "source": [
    "import numpy as np\n",
    "import matplotlib.pyplot as plt\n",
    "import scipy.io.wavfile as wavfile \n",
    "import scipy.signal as signal\n",
    "from scipy import fftpack\n",
    "\n",
    "from ipywidgets import interactive\n",
    "from IPython.display import Audio, display"
   ]
  },
  {
   "cell_type": "markdown",
   "metadata": {},
   "source": [
    "## The cepstrum\n",
    "\n",
    "For this section, we will be using [python_speech_features](https://github.com/jameslyons/python_speech_features) by [James Lyon](https://maxwell.ict.griffith.edu.au/spl/staff/j_lyons/home.htm). Install it using:\n",
    "\n",
    "```\n",
    "pip install python_speech_features\n",
    "```\n",
    "We can examine the code at the [github repository](https://github.com/jameslyons/python_speech_features) and via the [documentation](https://python-speech-features.readthedocs.io/en/latest/).\n",
    "\n",
    "James Lyon also has some nice write-ups on the [cepstrum](http://www.practicalcryptography.com/miscellaneous/machine-learning/tutorial-cepstrum-and-lpccs/) and [MFCCs](http://practicalcryptography.com/miscellaneous/machine-learning/guide-mel-frequency-cepstral-coefficients-mfccs/)."
   ]
  },
  {
   "cell_type": "code",
   "execution_count": 50,
   "metadata": {},
   "outputs": [],
   "source": [
    "import python_speech_features as sf"
   ]
  },
  {
   "cell_type": "markdown",
   "metadata": {},
   "source": [
    "We'll also be working with the Hmong `mu` sound clip, `hmong_mu.wav`:"
   ]
  },
  {
   "cell_type": "code",
   "execution_count": 54,
   "metadata": {},
   "outputs": [
    {
     "data": {
      "text/html": [
       "\n",
       "                <audio controls=\"controls\" >\n",
       "                    <source src=\"data:audio/wav;base64,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\" type=\"audio/wav\" />\n",
       "                    Your browser does not support the audio element.\n",
       "                </audio>\n",
       "              "
      ],
      "text/plain": [
       "<IPython.lib.display.Audio object>"
      ]
     },
     "metadata": {},
     "output_type": "display_data"
    }
   ],
   "source": [
    "(rate,sig) = wavfile.read(\"hmong_mu.wav\")\n",
    "display(Audio(data=sig, rate=rate))"
   ]
  },
  {
   "cell_type": "markdown",
   "metadata": {},
   "source": [
    "What we'll be doing now is working through the tutorials using the [github code repository code for `python_speech_features.base.mfcc`](https://python-speech-features.readthedocs.io/en/latest/). This function calls a ton of other sub-functions we'll need to understand in order to figure out how the computation is proceeding. The basic steps are described in the tutorial [here](http://practicalcryptography.com/miscellaneous/machine-learning/guide-mel-frequency-cepstral-coefficients-mfccs/). Let's work through these. "
   ]
  },
  {
   "cell_type": "markdown",
   "metadata": {},
   "source": [
    "### Step 1. Frame the signal into short frames.\n",
    "\n",
    "For this step, we'll need to understand `python_speech_features.sigproc.framesig`."
   ]
  },
  {
   "cell_type": "code",
   "execution_count": null,
   "metadata": {},
   "outputs": [],
   "source": []
  },
  {
   "cell_type": "markdown",
   "metadata": {},
   "source": [
    "### Step 2. For each frame calculate the periodogram estimate of the power spectrum.\n",
    "\n",
    "For this step, we'll need to understand `python_speech_features.sigproc.powspec`."
   ]
  },
  {
   "cell_type": "code",
   "execution_count": null,
   "metadata": {},
   "outputs": [],
   "source": []
  },
  {
   "cell_type": "markdown",
   "metadata": {},
   "source": [
    "### Step 3. Apply the mel filterbank to the power spectra, sum the energy in each filter.\n",
    "\n",
    "For this step, we'll need to understand `python_speech_features.base.fbank`."
   ]
  },
  {
   "cell_type": "markdown",
   "metadata": {},
   "source": [
    "### Step 4. Take the logarithm of all filterbank energies.\n",
    "\n",
    "For this step, we'll need to understand `python_speech_features.base.logfbank`."
   ]
  },
  {
   "cell_type": "markdown",
   "metadata": {},
   "source": [
    "### Step 5. Take the DCT of the log filterbank energies.\n",
    "\n",
    "For this step, we'll need to take a look at `scipy.sig.fftpack.dct`."
   ]
  },
  {
   "cell_type": "markdown",
   "metadata": {},
   "source": [
    "### Step 6. Keep DCT coefficients 2-13, discard the rest.\n",
    "\n",
    "For this step, we'll need to understand `python_speech_features.base.lifter`."
   ]
  }
 ],
 "metadata": {
  "kernelspec": {
   "display_name": "Python 3",
   "language": "python",
   "name": "python3"
  },
  "language_info": {
   "codemirror_mode": {
    "name": "ipython",
    "version": 3
   },
   "file_extension": ".py",
   "mimetype": "text/x-python",
   "name": "python",
   "nbconvert_exporter": "python",
   "pygments_lexer": "ipython3",
   "version": "3.7.7"
  }
 },
 "nbformat": 4,
 "nbformat_minor": 4
}
